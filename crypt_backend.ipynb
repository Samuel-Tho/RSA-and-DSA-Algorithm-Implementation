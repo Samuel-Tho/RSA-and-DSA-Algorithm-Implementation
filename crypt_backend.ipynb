{
 "cells": [
  {
   "cell_type": "code",
   "execution_count": 3,
   "id": "c0bee5ab-c83e-431e-8473-eb635c165ee4",
   "metadata": {
    "editable": true,
    "slideshow": {
     "slide_type": ""
    },
    "tags": []
   },
   "outputs": [],
   "source": [
    "import numpy as np\n",
    "import random as rand\n",
    "#Random used in base generation for Shores Algorithm"
   ]
  },
  {
   "cell_type": "markdown",
   "id": "c76d9f1c-961a-400e-930a-1964fcca47a7",
   "metadata": {
    "jp-MarkdownHeadingCollapsed": true
   },
   "source": [
    "## Handling ASCII\n",
    "Functions convert between a string such as 'this is a string' and a list of corresponding ASCII integers\n",
    "as in [116, 104, 105, 115, 32, 105, 115, 32, 97, 32, 115, 116, 114, 105, 110, 103]"
   ]
  },
  {
   "cell_type": "code",
   "execution_count": 5,
   "id": "64f9e8c0-7f64-4263-99cf-70af68e550f5",
   "metadata": {
    "editable": true,
    "slideshow": {
     "slide_type": ""
    },
    "tags": []
   },
   "outputs": [],
   "source": [
    "def conv_to_ASCII(string):\n",
    "    ascii_values = [ord(char) for char in string]\n",
    "    return (ascii_values)"
   ]
  },
  {
   "cell_type": "code",
   "execution_count": 6,
   "id": "7e6ddf1b-6346-4aa9-a377-45426da09462",
   "metadata": {
    "editable": true,
    "slideshow": {
     "slide_type": ""
    },
    "tags": []
   },
   "outputs": [],
   "source": [
    "def ASCII_to_string(ascii_list):\n",
    "    return ''.join(chr(num) for num in ascii_list)"
   ]
  },
  {
   "cell_type": "markdown",
   "id": "4bba91c4-7dac-4b4b-952b-1697df3bb293",
   "metadata": {},
   "source": [
    "Example Usage"
   ]
  },
  {
   "cell_type": "code",
   "execution_count": 8,
   "id": "e83cd3ba-bccd-4c6e-a1e8-32b3ef2fb3d0",
   "metadata": {},
   "outputs": [
    {
     "data": {
      "text/plain": [
       "[116, 104, 105, 115, 32, 105, 115, 32, 97, 32, 115, 116, 114, 105, 110, 103]"
      ]
     },
     "execution_count": 8,
     "metadata": {},
     "output_type": "execute_result"
    }
   ],
   "source": [
    "conv_to_ASCII('this is a string')"
   ]
  },
  {
   "cell_type": "code",
   "execution_count": 9,
   "id": "46172928-8061-46de-926c-e61dcd1d4753",
   "metadata": {},
   "outputs": [
    {
     "data": {
      "text/plain": [
       "'this is a string'"
      ]
     },
     "execution_count": 9,
     "metadata": {},
     "output_type": "execute_result"
    }
   ],
   "source": [
    "ASCII_to_string([116, 104, 105, 115, 32, 105, 115, 32, 97, 32, 115, 116, 114, 105, 110, 103])"
   ]
  },
  {
   "cell_type": "markdown",
   "id": "221d7ecd-a1c7-491a-9bcb-b4557901e6b0",
   "metadata": {
    "editable": true,
    "jp-MarkdownHeadingCollapsed": true,
    "slideshow": {
     "slide_type": ""
    },
    "tags": []
   },
   "source": [
    "# Binary Conversion\n",
    "Converts a binary string to an integer."
   ]
  },
  {
   "cell_type": "code",
   "execution_count": 11,
   "id": "e0b11406-9db1-4bda-b932-24aaa9b11b5e",
   "metadata": {
    "editable": true,
    "slideshow": {
     "slide_type": ""
    },
    "tags": []
   },
   "outputs": [],
   "source": [
    "def convert_binary_to_int(bin_str):\n",
    "    val = 0\n",
    "    for char in bin_str:\n",
    "        val *= 2\n",
    "        val += int(char) \n",
    "    return val"
   ]
  },
  {
   "cell_type": "markdown",
   "id": "62f020e4-c2bf-4a99-a148-76ce05e781fa",
   "metadata": {
    "jp-MarkdownHeadingCollapsed": true
   },
   "source": [
    "# Modular Expoinentiation and Inversion\n",
    "First function implements algorithm for fast modular exponentiation. **Algorithm 2.6**\\\n",
    "Second function implements the extended euclidean algorithm."
   ]
  },
  {
   "cell_type": "code",
   "execution_count": 13,
   "id": "06c1098a-a9e6-4190-828d-6772e139e700",
   "metadata": {
    "editable": true,
    "slideshow": {
     "slide_type": ""
    },
    "tags": []
   },
   "outputs": [],
   "source": [
    "def mod_exponentiate(base,power,mod):\n",
    "    true_base=base%mod\n",
    "    res=true_base\n",
    "    \n",
    "    for bit in bin(power)[3:]:\n",
    "        res=(res*res)%mod\n",
    "    \n",
    "        if int(bit)==1:\n",
    "            res=(true_base*res)%mod\n",
    "    return res"
   ]
  },
  {
   "cell_type": "code",
   "execution_count": 14,
   "id": "55e0d720-4cc0-4fb7-b701-640a2d41aebb",
   "metadata": {},
   "outputs": [],
   "source": [
    "def modular_inverse(a, m):\n",
    "    original_m, x, y = m, 1, 0\n",
    "    a1, b1 = a, m\n",
    "\n",
    "    while b1:\n",
    "        q = a1 // b1\n",
    "        a1, b1 = b1, a1 % b1\n",
    "        x, y = y, x - q * y\n",
    "\n",
    "    if a1 != 1:\n",
    "        raise ValueError(f\"No modular inverse: {a} and {m} are not coprime.\")\n",
    "\n",
    "    return x % original_m  # Ensure positive inverse"
   ]
  },
  {
   "cell_type": "markdown",
   "id": "04eea839-320d-462a-bb0f-6d7e415c3230",
   "metadata": {
    "jp-MarkdownHeadingCollapsed": true
   },
   "source": [
    "# Chinese Remainder Theorem\n",
    "Implements Garner's CRT algorithm **Algorithm 2.8**\\\n",
    "'prod' is a sub function in 'fast_crt' for multiplying all elements in a list."
   ]
  },
  {
   "cell_type": "code",
   "execution_count": 16,
   "id": "c2312232-c824-44b5-b7b1-85f3a12d048c",
   "metadata": {
    "editable": true,
    "slideshow": {
     "slide_type": ""
    },
    "tags": []
   },
   "outputs": [],
   "source": [
    "def prod(lst):\n",
    "    \"\"\"Returns the product of elements in a list.\"\"\"\n",
    "    result = 1\n",
    "    for num in lst:\n",
    "        result *= num\n",
    "    return result"
   ]
  },
  {
   "cell_type": "code",
   "execution_count": 17,
   "id": "7a01aec0-1204-4f94-a4c5-2e25c204605d",
   "metadata": {
    "editable": true,
    "slideshow": {
     "slide_type": ""
    },
    "tags": []
   },
   "outputs": [],
   "source": [
    "def fast_crt(v,m):\n",
    "    t = len(m)\n",
    "    C = [1] * t\n",
    "    \n",
    "    # Step 1: Compute C values\n",
    "    for i in range(1, t):\n",
    "        C[i] = 1\n",
    "        for j in range(i):\n",
    "            u = modular_inverse(m[j],m[i])\n",
    "            C[i] = (C[i] * u) % m[i]\n",
    "    \n",
    "    # Step 2: Compute x\n",
    "    x = v[0]\n",
    "    for i in range(1, t):\n",
    "        u = ((v[i] - x) * C[i]) % m[i]\n",
    "        x += u * (prod(m[:i]))\n",
    "    \n",
    "    return x"
   ]
  },
  {
   "cell_type": "markdown",
   "id": "517e231d-7391-455c-a0f9-2a2a1927357b",
   "metadata": {
    "jp-MarkdownHeadingCollapsed": true
   },
   "source": [
    "# Encryption\n",
    "Takes a message as a *string* and uses fast modular exponentiation as in **Algorithm 2.6**.\\\n",
    "Outputs a list of cyphertext message units (in integer form)."
   ]
  },
  {
   "cell_type": "code",
   "execution_count": 19,
   "id": "3ceb3da2-d447-4e14-bd69-1bb0c5ab3b46",
   "metadata": {},
   "outputs": [],
   "source": [
    "def fast_encrypt(Message, PublicExponent, Modulus): \n",
    "    encrypted_lst = [mod_exponentiate(code,PublicExponent,Modulus) for code in conv_to_ASCII(Message)]\n",
    "    return encrypted_lst"
   ]
  },
  {
   "cell_type": "markdown",
   "id": "cae8eabb-3271-4bbd-b9b0-d402103f034a",
   "metadata": {
    "jp-MarkdownHeadingCollapsed": true
   },
   "source": [
    "# Decryption\n",
    "'naive_decrypt' takes as input as *list of integers* in ASCII (or some other format) and uses fast modular exponentiation as in **Algorithm 2.6** for decryption.\\\n",
    "'fast_decrypt' takes as input a *list of integers* in ASCII (or some other format) and uses CRT modular exponentiation for decryption. Note that this requires $p$ and $q$ by as a part of the private key."
   ]
  },
  {
   "cell_type": "code",
   "execution_count": 21,
   "id": "9d497797-50c2-473a-acea-677523ff98ec",
   "metadata": {
    "editable": true,
    "slideshow": {
     "slide_type": ""
    },
    "tags": []
   },
   "outputs": [],
   "source": [
    "def fast_decrypt(cyphertext,p,q,d):\n",
    "    decrypted_lst=[fast_crt([mod_exponentiate(c_message_unit,d%(p-1),p),mod_exponentiate(c_message_unit,d%(q-1),q)],[p,q]) for c_message_unit in cyphertext]\n",
    "    return decrypted_lst"
   ]
  },
  {
   "cell_type": "code",
   "execution_count": 22,
   "id": "d9509a2a-bbbb-4912-a958-12ccfb07f9bb",
   "metadata": {
    "editable": true,
    "slideshow": {
     "slide_type": ""
    },
    "tags": []
   },
   "outputs": [],
   "source": [
    "def naive_decrypt(input, PublicExponent, Modulus):\n",
    "    encrypted_lst = [mod_exponentiate(code,PublicExponent,Modulus) for code in input]\n",
    "    return encrypted_lst"
   ]
  },
  {
   "cell_type": "markdown",
   "id": "afb18a83-54d1-4bd4-afb2-e7ca59760556",
   "metadata": {
    "jp-MarkdownHeadingCollapsed": true
   },
   "source": [
    "# Factorisation\n",
    "Implements a classical version of Shor's Factorisation Algorithm. This differs slightly from **Algorithm 2.4** in that we allow for odd order by using a scaling gcd function.\\\n",
    "'scaled_gcd' is a sub function that allows for finding the gcd of numbers of the form $z+\\frac{1}{2}:z\\in\\mathbb{Z}$.\\\n",
    "'find_order' determines the order of $a$ in $\\mathbb{Z}/N\\mathbb{Z}$."
   ]
  },
  {
   "cell_type": "code",
   "execution_count": 24,
   "id": "1a4b7090-15e9-4938-9971-6ee70b85a2ca",
   "metadata": {
    "editable": true,
    "slideshow": {
     "slide_type": ""
    },
    "tags": []
   },
   "outputs": [],
   "source": [
    "def scaled_gcd(a,b):\n",
    "    scale = 2 if (a % 1 == 0.5 or b % 1 == 0.5) else 1\n",
    "    a, b = int(a * scale), int(b * scale)\n",
    "\n",
    "    return (np.gcd(a,b)/scale)"
   ]
  },
  {
   "cell_type": "code",
   "execution_count": 25,
   "id": "ef0f7047-ac49-49d4-a653-ecf712caa269",
   "metadata": {
    "editable": true,
    "slideshow": {
     "slide_type": ""
    },
    "tags": []
   },
   "outputs": [],
   "source": [
    "def find_order(a, N):\n",
    "    for r in range(1, N):\n",
    "        if mod_exponentiate(a, r, N) == 1:\n",
    "            return r\n",
    "    return None  # Should never happen for valid choices of a"
   ]
  },
  {
   "cell_type": "code",
   "execution_count": 26,
   "id": "0dfd63fb-7199-4aa3-93f3-446755b7dcbf",
   "metadata": {
    "editable": true,
    "slideshow": {
     "slide_type": ""
    },
    "tags": []
   },
   "outputs": [],
   "source": [
    "def shores_factorise(N):\n",
    "    if N%2==0:\n",
    "        return 2\n",
    "\n",
    "    while True:\n",
    "        base_test=rand.randint(2,N-1)\n",
    "        base=np.gcd(base_test,N)\n",
    "        \n",
    "        if N>base>1:\n",
    "            return base,N//base\n",
    "            \n",
    "            \n",
    "        else:\n",
    "            r=find_order(base,N) \n",
    "            \n",
    "            factor1=int(scaled_gcd(N,(base**(r/2)-1)))\n",
    "            factor2=int(scaled_gcd(N,(base**(r/2)+1)))\n",
    "\n",
    "            if N>factor1>1:\n",
    "                return factor1,N//factor1\n",
    "            if N>factor2>1:\n",
    "                return factor2,N//factor2"
   ]
  }
 ],
 "metadata": {
  "kernelspec": {
   "display_name": "Python 3 (ipykernel)",
   "language": "python",
   "name": "python3"
  },
  "language_info": {
   "codemirror_mode": {
    "name": "ipython",
    "version": 3
   },
   "file_extension": ".py",
   "mimetype": "text/x-python",
   "name": "python",
   "nbconvert_exporter": "python",
   "pygments_lexer": "ipython3",
   "version": "3.12.4"
  }
 },
 "nbformat": 4,
 "nbformat_minor": 5
}
