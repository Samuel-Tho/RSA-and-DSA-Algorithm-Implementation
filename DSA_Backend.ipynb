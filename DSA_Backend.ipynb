{
 "cells": [
  {
   "cell_type": "code",
   "execution_count": 95,
   "id": "b93b878b-667b-4624-adf8-8f927369efdf",
   "metadata": {},
   "outputs": [],
   "source": [
    "%run crypt_backend.ipynb"
   ]
  },
  {
   "cell_type": "markdown",
   "id": "5b68803c-809e-44ec-9029-e6aa591e173d",
   "metadata": {
    "jp-MarkdownHeadingCollapsed": true
   },
   "source": [
    "# Parameter Generations\n",
    "Generates the public parameters according to **Algorithm 3.2**.\\\n",
    "'parameter_generation' includes the rest of the functions, takes a given $q$ and a bit size for p."
   ]
  },
  {
   "cell_type": "code",
   "execution_count": 97,
   "id": "97032ec2-f6b5-4eee-a3a9-79ecd77e1cc7",
   "metadata": {},
   "outputs": [],
   "source": [
    "#Find P functions\n",
    "def isPrime(n):\n",
    "    for i in range(2,int(n**0.5)+1):\n",
    "        if n%i==0:\n",
    "            return False \n",
    "    return True\n",
    "\n",
    "def find_p_parameter(bit_size, q):\n",
    "    lower = 2**(bit_size - 1)\n",
    "    upper = 2**bit_size - 1\n",
    "    primes = [p for p in range(lower, upper + 1) if isPrime(p)]\n",
    "    rand.shuffle(primes)\n",
    "    \n",
    "    for candidate in primes:\n",
    "        if candidate % q == 1:\n",
    "            return candidate\n",
    "\n",
    "    raise ValueError(\"No prime found in the range satisfying candidate % q == 1.\")"
   ]
  },
  {
   "cell_type": "code",
   "execution_count": 98,
   "id": "99213ef1-594e-4813-adca-355ebf569a8f",
   "metadata": {},
   "outputs": [],
   "source": [
    "def find_g(p,q):\n",
    "    g=1\n",
    "    while g==1:\n",
    "        h=rand.randint(2,p-2)\n",
    "        g=mod_exponentiate(h,(p-1)//q,p)\n",
    "    return g"
   ]
  },
  {
   "cell_type": "code",
   "execution_count": 99,
   "id": "1f5c561a-acf3-437a-b3bd-7f43361e60eb",
   "metadata": {},
   "outputs": [],
   "source": [
    "def parameter_generation(p_bit_size,q):\n",
    "    p=find_p_parameter(p_bit_size,q)\n",
    "    g=find_g(p,q)\n",
    "    return p,q"
   ]
  },
  {
   "cell_type": "markdown",
   "id": "0ed53d21-ec5d-408f-90b6-bf9609c2614c",
   "metadata": {
    "jp-MarkdownHeadingCollapsed": true
   },
   "source": [
    "# User Key Generation\n",
    "Generates user public and private keys according to **Algorithm 3.3**.\n"
   ]
  },
  {
   "cell_type": "code",
   "execution_count": 101,
   "id": "a94cc51d-e9f9-45fa-a383-d145e288d10d",
   "metadata": {},
   "outputs": [],
   "source": [
    "def gen_user_keys(g,p,q):\n",
    "    x_a=rand.randint(1,q-1)\n",
    "    y_a=mod_exponentiate(g,x_a,p)"
   ]
  },
  {
   "cell_type": "markdown",
   "id": "c59abdc1-6437-4165-8a29-3369cac58e63",
   "metadata": {
    "jp-MarkdownHeadingCollapsed": true
   },
   "source": [
    "# Hash Function\n",
    "Defines the toy hash function used in **Sections 3.3 and 3.4**.\\\n",
    "Converts a string to ASCII then sums the digits and returns the last 8 binary characters of this sum."
   ]
  },
  {
   "cell_type": "code",
   "execution_count": 103,
   "id": "b167c2cf-e33e-4578-8ad5-493674b2e077",
   "metadata": {},
   "outputs": [],
   "source": [
    "def toy_hash(string):\n",
    "    hash=0\n",
    "    for char in conv_to_ASCII(string):\n",
    "       hash+=char\n",
    "    if len(bin(hash))>=10:\n",
    "        return bin(hash)[-8:]\n",
    "    else:\n",
    "        null_str='0'*(10-len(bin(hash)))\n",
    "        return null_str+bin(hash)[2:]"
   ]
  },
  {
   "cell_type": "markdown",
   "id": "638b71fd-1978-46d8-b5f3-1899925aff68",
   "metadata": {
    "jp-MarkdownHeadingCollapsed": true
   },
   "source": [
    "# Sign To Blockchain\n",
    "Takes as input public paramters and transaction information and a private key and outputs a signed block as in **Example 3.7**.\\\n",
    "Optional argument 'choose_k' allows for $k$ choice to be made manually for repeatability and testing, if empty, k is chosen randomly.\\\n",
    "If a block is the genesis block set 'prev_block=$0$'."
   ]
  },
  {
   "cell_type": "code",
   "execution_count": 130,
   "id": "f61dab6e-575a-4265-878b-46bcee34dd91",
   "metadata": {},
   "outputs": [],
   "source": [
    "def sign_to_blockchain(p,q,g,sender,receiver,value,prev_block,private_key,choose_k=None):\n",
    "    r=0\n",
    "    prev_hash=''\n",
    "    while r==0:\n",
    "        if choose_k==None:\n",
    "            k=rand.randint(1,q-1)\n",
    "        else:\n",
    "            k=choose_k\n",
    "        r=mod_exponentiate(g,k,p)%q\n",
    "        if r==0 and choose_k is not None:\n",
    "            raise ValueError(\"Given k generates r=0\")\n",
    "    s=(modular_inverse(k,q)*((convert_binary_to_int(toy_hash(f'{sender}||{receiver}||{value}'))+(private_key*r))%q))%q\n",
    "    if prev_block==0:\n",
    "        prev_hash='0000'\n",
    "    else:\n",
    "        prev_hash=toy_hash(prev_block)\n",
    "    block= f'{sender}||{receiver}||{value}||{r}||{s}||PrevHash={prev_hash}'\n",
    "    return block"
   ]
  },
  {
   "cell_type": "markdown",
   "id": "404b97f4-ec8d-43eb-9b12-07c2b15dd1ae",
   "metadata": {
    "jp-MarkdownHeadingCollapsed": true
   },
   "source": [
    "# Signature Verification\n",
    "Verifies the signature on a given message by **Algorithm 3.5**."
   ]
  },
  {
   "cell_type": "code",
   "execution_count": 107,
   "id": "09aed571-5bfc-4f5e-9404-a9a26ca2c955",
   "metadata": {},
   "outputs": [],
   "source": [
    "def signature_verification(r,s,p,q,g,public_key,message):\n",
    "    if r <= 0 or s<=0 or r>q or s>q:\n",
    "        return 'Very Invalid'\n",
    "    w=modular_inverse(s,q)\n",
    "    v1=(convert_binary_to_int(toy_hash(message))*w)%q\n",
    "    v2=(r*w)%q\n",
    "    vinit=(mod_exponentiate(g,v1,p)*mod_exponentiate(public_key,v2,p))%p\n",
    "    v=vinit%q\n",
    "    if v==r:\n",
    "        return 'Valid'\n",
    "    elif v!=r:\n",
    "        return 'Invalid'"
   ]
  }
 ],
 "metadata": {
  "kernelspec": {
   "display_name": "Python 3 (ipykernel)",
   "language": "python",
   "name": "python3"
  },
  "language_info": {
   "codemirror_mode": {
    "name": "ipython",
    "version": 3
   },
   "file_extension": ".py",
   "mimetype": "text/x-python",
   "name": "python",
   "nbconvert_exporter": "python",
   "pygments_lexer": "ipython3",
   "version": "3.12.4"
  }
 },
 "nbformat": 4,
 "nbformat_minor": 5
}
