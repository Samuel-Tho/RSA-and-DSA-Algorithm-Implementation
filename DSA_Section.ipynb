{
 "cells": [
  {
   "cell_type": "code",
   "execution_count": 7,
   "id": "956b69db-5e7e-473a-9406-69ebeee3403b",
   "metadata": {},
   "outputs": [],
   "source": [
    "%run crypt_backend.ipynb\n",
    "%run DSA_Backend.ipynb"
   ]
  },
  {
   "cell_type": "markdown",
   "id": "96b1414c-ffdb-4c5d-9f9a-4148c1c3bb16",
   "metadata": {
    "jp-MarkdownHeadingCollapsed": true
   },
   "source": [
    "# Example 3.6\n",
    "Follows **Example 3.6**, parameters and $k$ values are precomputed for repeatability."
   ]
  },
  {
   "cell_type": "code",
   "execution_count": 9,
   "id": "e804d31a-c9b8-487c-bd7a-c609f45753e3",
   "metadata": {},
   "outputs": [],
   "source": [
    "#CHOOSE\n",
    "q=149 #8 bit\n",
    "p=47681\n",
    "g=26140"
   ]
  },
  {
   "cell_type": "code",
   "execution_count": 11,
   "id": "fa44dba9-36ed-4693-9cbd-ad7fd78ab718",
   "metadata": {},
   "outputs": [],
   "source": [
    "#per user key generation\n",
    "#ALICE\n",
    "x_a=70\n",
    "y_a=mod_exponentiate(g,x_a,p)\n",
    "\n",
    "#BOB\n",
    "x_b=28\n",
    "y_b=mod_exponentiate(g,x_b,p)\n",
    "\n",
    "#CHARLIE\n",
    "x_c=93\n",
    "y_c=mod_exponentiate(g,x_c,p)\n",
    "\n",
    "#DEREK\n",
    "x_d=132\n",
    "y_d=mod_exponentiate(g,x_d,p)"
   ]
  },
  {
   "cell_type": "code",
   "execution_count": 13,
   "id": "0b9d2a24-0db0-4aa9-a80e-d058b0496646",
   "metadata": {},
   "outputs": [],
   "source": [
    "block_1=sign_to_blockchain(p,q,g,'Alice','Bob',5,0,x_a,choose_k=100)"
   ]
  },
  {
   "cell_type": "code",
   "execution_count": 15,
   "id": "d2566a74-7b22-44c1-bc99-96e0baebae4c",
   "metadata": {},
   "outputs": [],
   "source": [
    "block_2=sign_to_blockchain(p,q,g,'Bob','Charlie',3,block_1,x_b,choose_k=57)"
   ]
  },
  {
   "cell_type": "code",
   "execution_count": 17,
   "id": "38572db1-bfca-455a-b868-5ecdffe317e6",
   "metadata": {},
   "outputs": [
    {
     "name": "stdout",
     "output_type": "stream",
     "text": [
      "['Alice||Bob||5||17||30||PrevHash=0000', 'Bob||Charlie||3||5||38||PrevHash=11100111']\n"
     ]
    }
   ],
   "source": [
    "blockchain = []\n",
    "blockchain.append(block_1)\n",
    "blockchain.append(block_2)\n",
    "print(blockchain)"
   ]
  },
  {
   "cell_type": "markdown",
   "id": "c44a0f75-35ba-4de7-9f7e-a684b56f9a31",
   "metadata": {
    "jp-MarkdownHeadingCollapsed": true
   },
   "source": [
    "# Example 3.7\n",
    "Derek attempts to find hash function collisions. Note that we manually setup the block that Derek is trying to manipulate."
   ]
  },
  {
   "cell_type": "code",
   "execution_count": 135,
   "id": "70e8dcaa-f07e-4a57-8f00-0d11375901a8",
   "metadata": {},
   "outputs": [
    {
     "name": "stdout",
     "output_type": "stream",
     "text": [
      "1000001\n",
      "1000080\n"
     ]
    }
   ],
   "source": [
    "i=11\n",
    "test=0\n",
    "target=toy_hash('Alice||Derek||10||75||47||PrevHash=01001110')\n",
    "while test!=target:\n",
    "    test=toy_hash(f'Alice||Derek||{i}||75||47||PrevHash=01001110')\n",
    "    i+=1\n",
    "    if i%1000000==1:\n",
    "        print(i)\n",
    "print(i)"
   ]
  },
  {
   "cell_type": "code",
   "execution_count": 240,
   "id": "402a9e06-bff2-4592-bfce-8582bf53d033",
   "metadata": {
    "scrolled": true
   },
   "outputs": [
    {
     "name": "stdout",
     "output_type": "stream",
     "text": [
      "1000001\n",
      "2000001\n",
      "3000001\n",
      "4000001\n",
      "5000001\n",
      "6000001\n",
      "7000001\n",
      "8000001\n",
      "9000001\n",
      "10000001\n",
      "11000001\n",
      "12000001\n",
      "13000001\n",
      "14000001\n",
      "15000001\n",
      "16000001\n",
      "17000001\n",
      "18000001\n",
      "19000001\n",
      "20000001\n",
      "21000001\n",
      "22000001\n",
      "23000001\n",
      "24000001\n",
      "25000001\n",
      "26000001\n",
      "27000001\n",
      "28000001\n",
      "29000001\n",
      "30000001\n",
      "31000001\n",
      "32000001\n",
      "33000001\n",
      "34000001\n",
      "35000001\n",
      "36000001\n",
      "37000001\n",
      "38000001\n",
      "39000001\n",
      "40000001\n",
      "41000001\n",
      "42000001\n",
      "43000001\n",
      "44000001\n",
      "45000001\n",
      "46000001\n",
      "47000001\n",
      "48000001\n",
      "49000001\n",
      "50000001\n",
      "51000001\n",
      "52000001\n",
      "53000001\n",
      "54000001\n",
      "55000001\n",
      "56000001\n",
      "57000001\n",
      "58000001\n",
      "59000001\n",
      "60000001\n",
      "61000001\n",
      "62000001\n",
      "63000001\n",
      "64000001\n",
      "65000001\n",
      "66000001\n",
      "67000001\n",
      "68000001\n",
      "69000001\n",
      "70000001\n",
      "71000001\n",
      "72000001\n",
      "73000001\n",
      "74000001\n",
      "75000001\n",
      "76000001\n",
      "77000001\n",
      "78000001\n",
      "79000001\n",
      "80000001\n",
      "81000001\n",
      "82000001\n",
      "83000001\n",
      "84000001\n",
      "85000001\n",
      "86000001\n",
      "87000001\n",
      "88000001\n",
      "89000001\n",
      "90000001\n",
      "91000001\n",
      "92000001\n",
      "93000001\n",
      "94000001\n",
      "95000001\n",
      "96000001\n",
      "97000001\n",
      "98000001\n",
      "99000001\n",
      "100000001\n",
      "101000001\n",
      "102000001\n",
      "103000001\n",
      "104000001\n",
      "105000001\n",
      "106000001\n",
      "107000001\n",
      "108000001\n",
      "109000001\n",
      "110000001\n",
      "111000001\n",
      "112000001\n",
      "113000001\n",
      "114000001\n",
      "115000001\n",
      "116000001\n",
      "117000001\n",
      "118000001\n",
      "119000001\n",
      "120000001\n",
      "121000001\n",
      "122000001\n",
      "123000001\n",
      "124000001\n",
      "125000001\n",
      "126000001\n",
      "127000001\n",
      "128000001\n",
      "129000001\n",
      "130000001\n",
      "131000001\n",
      "132000001\n",
      "133000001\n",
      "134000001\n",
      "135000001\n",
      "136000001\n",
      "137000001\n",
      "138000001\n",
      "139000001\n",
      "140000001\n",
      "141000001\n",
      "142000001\n",
      "143000001\n",
      "144000001\n",
      "145000001\n",
      "146000001\n",
      "147000001\n",
      "148000001\n",
      "149000001\n",
      "150000001\n",
      "151000001\n",
      "152000001\n",
      "153000001\n",
      "154000001\n",
      "155000001\n",
      "156000001\n",
      "157000001\n",
      "158000001\n",
      "159000001\n",
      "160000001\n",
      "161000001\n",
      "162000001\n",
      "163000001\n",
      "164000001\n",
      "165000001\n",
      "166000001\n",
      "167000001\n",
      "168000001\n",
      "169000001\n",
      "170000001\n",
      "171000001\n",
      "172000001\n",
      "173000001\n",
      "174000001\n",
      "175000001\n",
      "176000001\n",
      "177000001\n"
     ]
    },
    {
     "ename": "KeyboardInterrupt",
     "evalue": "",
     "output_type": "error",
     "traceback": [
      "\u001b[1;31m---------------------------------------------------------------------------\u001b[0m",
      "\u001b[1;31mKeyboardInterrupt\u001b[0m                         Traceback (most recent call last)",
      "Cell \u001b[1;32mIn[240], line 7\u001b[0m\n\u001b[0;32m      5\u001b[0m target2\u001b[38;5;241m=\u001b[39mtoy_hash(\u001b[38;5;124m'\u001b[39m\u001b[38;5;124mAlice||Derek||2\u001b[39m\u001b[38;5;124m'\u001b[39m)\n\u001b[0;32m      6\u001b[0m \u001b[38;5;28;01mwhile\u001b[39;00m test\u001b[38;5;241m!=\u001b[39mtarget \u001b[38;5;129;01mor\u001b[39;00m test2\u001b[38;5;241m!=\u001b[39mtarget2:\n\u001b[1;32m----> 7\u001b[0m     test\u001b[38;5;241m=\u001b[39mtoy_hash(\u001b[38;5;124mf\u001b[39m\u001b[38;5;124m'\u001b[39m\u001b[38;5;124mAlice||Derek||\u001b[39m\u001b[38;5;132;01m{\u001b[39;00mi\u001b[38;5;132;01m}\u001b[39;00m\u001b[38;5;124m||75||47||PrevHash=01001110\u001b[39m\u001b[38;5;124m'\u001b[39m)\n\u001b[0;32m      8\u001b[0m     test2\u001b[38;5;241m=\u001b[39mtoy_hash(\u001b[38;5;124mf\u001b[39m\u001b[38;5;124m'\u001b[39m\u001b[38;5;124mAlice||Derek||\u001b[39m\u001b[38;5;132;01m{\u001b[39;00mi\u001b[38;5;132;01m}\u001b[39;00m\u001b[38;5;124m'\u001b[39m)\n\u001b[0;32m      9\u001b[0m     i\u001b[38;5;241m+\u001b[39m\u001b[38;5;241m=\u001b[39m\u001b[38;5;241m1\u001b[39m\n",
      "Cell \u001b[1;32mIn[4], line 3\u001b[0m, in \u001b[0;36mtoy_hash\u001b[1;34m(string)\u001b[0m\n\u001b[0;32m      1\u001b[0m \u001b[38;5;28;01mdef\u001b[39;00m \u001b[38;5;21mtoy_hash\u001b[39m(string):\n\u001b[0;32m      2\u001b[0m     \u001b[38;5;28mhash\u001b[39m\u001b[38;5;241m=\u001b[39m\u001b[38;5;241m0\u001b[39m\n\u001b[1;32m----> 3\u001b[0m     \u001b[38;5;28;01mfor\u001b[39;00m char \u001b[38;5;129;01min\u001b[39;00m conv_to_ASCII(string):\n\u001b[0;32m      4\u001b[0m        \u001b[38;5;28mhash\u001b[39m\u001b[38;5;241m+\u001b[39m\u001b[38;5;241m=\u001b[39mchar\n\u001b[0;32m      5\u001b[0m     \u001b[38;5;28;01mif\u001b[39;00m \u001b[38;5;28mlen\u001b[39m(\u001b[38;5;28mbin\u001b[39m(\u001b[38;5;28mhash\u001b[39m))\u001b[38;5;241m>\u001b[39m\u001b[38;5;241m=\u001b[39m\u001b[38;5;241m10\u001b[39m:\n",
      "File \u001b[1;32m~\\AppData\\Local\\Temp\\ipykernel_17176\\1610719508.py:2\u001b[0m, in \u001b[0;36mconv_to_ASCII\u001b[1;34m(string)\u001b[0m\n\u001b[0;32m      1\u001b[0m \u001b[38;5;28;01mdef\u001b[39;00m \u001b[38;5;21mconv_to_ASCII\u001b[39m(string):\n\u001b[1;32m----> 2\u001b[0m     ascii_values \u001b[38;5;241m=\u001b[39m [\u001b[38;5;28mord\u001b[39m(char) \u001b[38;5;28;01mfor\u001b[39;00m char \u001b[38;5;129;01min\u001b[39;00m string]\n\u001b[0;32m      3\u001b[0m     \u001b[38;5;28;01mreturn\u001b[39;00m (ascii_values)\n",
      "\u001b[1;31mKeyboardInterrupt\u001b[0m: "
     ]
    }
   ],
   "source": [
    "i=11\n",
    "test=0\n",
    "test2=0\n",
    "target=toy_hash('Alice||Derek||10||75||47||PrevHash=01001110')\n",
    "target2=toy_hash('Alice||Derek||2')\n",
    "while test!=target or test2!=target2:\n",
    "    test=toy_hash(f'Alice||Derek||{i}||75||47||PrevHash=01001110')\n",
    "    test2=toy_hash(f'Alice||Derek||{i}')\n",
    "    i+=1\n",
    "    if i%1000000==1:\n",
    "        print(i)\n",
    "print(i)"
   ]
  },
  {
   "cell_type": "markdown",
   "id": "0d99da16-134b-4d21-acee-cec1d574109f",
   "metadata": {
    "jp-MarkdownHeadingCollapsed": true
   },
   "source": [
    "# Example 3.8\n",
    "Derek uses partial $k$ leakage to recover Alice's private key. Note that the first cell generates the same scenario everytime adding to the\n",
    "blockchain from **Example 3.6**. The final cell finds possible values for $\\delta_1$ and $\\delta_2$."
   ]
  },
  {
   "cell_type": "code",
   "execution_count": 20,
   "id": "ecabd2f5-8ce4-4198-b128-94bb13c50c41",
   "metadata": {},
   "outputs": [],
   "source": [
    "block_3=sign_to_blockchain(p,q,g,'Alice','Bob',5,block_2,x_a,choose_k=103)\n",
    "blockchain.append(block_3)\n",
    "block_4=sign_to_blockchain(p,q,g,'Alice','Charlie',10,block_3,x_a,choose_k=93)\n",
    "blockchain.append(block_4)"
   ]
  },
  {
   "cell_type": "code",
   "execution_count": 22,
   "id": "886db342-58f5-4a34-9cad-4030d45f6fc6",
   "metadata": {},
   "outputs": [
    {
     "data": {
      "text/plain": [
       "['Alice||Bob||5||17||30||PrevHash=0000',\n",
       " 'Bob||Charlie||3||5||38||PrevHash=11100111',\n",
       " 'Alice||Bob||5||99||108||PrevHash=01011010',\n",
       " 'Alice||Charlie||10||4||84||PrevHash=11101011']"
      ]
     },
     "execution_count": 22,
     "metadata": {},
     "output_type": "execute_result"
    }
   ],
   "source": [
    "blockchain"
   ]
  },
  {
   "cell_type": "code",
   "execution_count": 24,
   "id": "6cbb2ece-a604-4f78-bf25-6f13d919f5ac",
   "metadata": {},
   "outputs": [
    {
     "name": "stdout",
     "output_type": "stream",
     "text": [
      "22\n",
      "82\n"
     ]
    }
   ],
   "source": [
    "print(convert_binary_to_int(toy_hash('Alice||Bob||5')))\n",
    "print(convert_binary_to_int(toy_hash('Alice||Charlie||10'))%q)"
   ]
  },
  {
   "cell_type": "code",
   "execution_count": 26,
   "id": "90932b08-07dc-4e71-bd05-b519fa97ee6d",
   "metadata": {},
   "outputs": [
    {
     "name": "stdout",
     "output_type": "stream",
     "text": [
      "2 5\n",
      "7 13\n"
     ]
    }
   ],
   "source": [
    "for d1 in range(1,15):\n",
    "    for d2 in range(1,15):\n",
    "        if (134*d1-121*d2)%q==110:\n",
    "            print(d1,d2)"
   ]
  }
 ],
 "metadata": {
  "kernelspec": {
   "display_name": "Python 3 (ipykernel)",
   "language": "python",
   "name": "python3"
  },
  "language_info": {
   "codemirror_mode": {
    "name": "ipython",
    "version": 3
   },
   "file_extension": ".py",
   "mimetype": "text/x-python",
   "name": "python",
   "nbconvert_exporter": "python",
   "pygments_lexer": "ipython3",
   "version": "3.12.4"
  }
 },
 "nbformat": 4,
 "nbformat_minor": 5
}
