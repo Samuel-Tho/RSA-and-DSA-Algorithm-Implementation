{
 "cells": [
  {
   "cell_type": "code",
   "execution_count": 13,
   "id": "9dd72cd1-e23b-4ce2-98b2-519426bbd467",
   "metadata": {},
   "outputs": [],
   "source": [
    "%run crypt_backend.ipynb"
   ]
  },
  {
   "cell_type": "markdown",
   "id": "adb3fd1d-b13a-49b8-96db-a01744563d4e",
   "metadata": {
    "jp-MarkdownHeadingCollapsed": true
   },
   "source": [
    "# ASCII Encoding \n",
    "## Example 2.5\n",
    "We implement 'conv_to_ASCII' and 'ASCII_to_string' on the message 'Hello world!'\\\n",
    "Then perform binary conversion. Note that in **Example 2.5** we manually extend the binary code to 8 bits where the leading bit is used for parity."
   ]
  },
  {
   "cell_type": "code",
   "execution_count": 20,
   "id": "5e40e745-4420-4964-a560-2d81efa424b8",
   "metadata": {},
   "outputs": [
    {
     "name": "stdout",
     "output_type": "stream",
     "text": [
      "[72, 101, 108, 108, 111, 32, 119, 111, 114, 108, 100, 33]\n"
     ]
    }
   ],
   "source": [
    "ascii_message=conv_to_ASCII('Hello world!')\n",
    "print(ascii_message)"
   ]
  },
  {
   "cell_type": "code",
   "execution_count": 24,
   "id": "8ab02518-3406-4206-9089-3a407e185893",
   "metadata": {},
   "outputs": [
    {
     "name": "stdout",
     "output_type": "stream",
     "text": [
      "1001000\n",
      "1100101\n",
      "1101100\n",
      "1101100\n",
      "1101111\n",
      "100000\n",
      "1110111\n",
      "1101111\n",
      "1110010\n",
      "1101100\n",
      "1100100\n",
      "100001\n"
     ]
    }
   ],
   "source": [
    "for char in ascii_message:\n",
    "    print(bin(char)[2:])"
   ]
  },
  {
   "cell_type": "markdown",
   "id": "20d09788-1472-41c2-a0fd-966e32296210",
   "metadata": {
    "jp-MarkdownHeadingCollapsed": true
   },
   "source": [
    "# Encrypting a Message\n",
    "## Example 2.7\n",
    "We encrypt the message 'Hello world!' using 'fast_encrypt'.\\\n",
    "We use the public key $(e,n)=(17,1363)$.\\\n",
    "Note that the ASCII conversion takes place within the function."
   ]
  },
  {
   "cell_type": "code",
   "execution_count": 31,
   "id": "bfb89d22-1014-4df3-ac53-43144830e8a4",
   "metadata": {},
   "outputs": [],
   "source": [
    "cypher_text=fast_encrypt('Hello world!',17,1363)"
   ]
  },
  {
   "cell_type": "markdown",
   "id": "742422cc-38ac-481c-b6fe-cbf0ddf985c9",
   "metadata": {
    "jp-MarkdownHeadingCollapsed": true
   },
   "source": [
    "# Decrypting a Message\n",
    "## Example 2.9\n",
    "We decrypt the encrypted message obtained in **Example 2.7**."
   ]
  },
  {
   "cell_type": "code",
   "execution_count": 38,
   "id": "c9a6466a-1bce-454b-a639-cdbe44a4ff0a",
   "metadata": {},
   "outputs": [],
   "source": [
    "plain_text=fast_decrypt(cypher_text,29,47,985)"
   ]
  },
  {
   "cell_type": "code",
   "execution_count": 40,
   "id": "30afc71a-bb61-4076-aa1f-0ea69bac5729",
   "metadata": {},
   "outputs": [
    {
     "data": {
      "text/plain": [
       "'Hello world!'"
      ]
     },
     "execution_count": 40,
     "metadata": {},
     "output_type": "execute_result"
    }
   ],
   "source": [
    "ASCII_to_string(plain_text)"
   ]
  },
  {
   "cell_type": "markdown",
   "id": "4238c98d-381e-4f70-93ca-4be969205b4e",
   "metadata": {
    "jp-MarkdownHeadingCollapsed": true
   },
   "source": [
    "# Factorisation Attack on 'RSA-encrypted-1.txt'\n",
    "Use SFA to factorise the modulus in the public key $N=99157$"
   ]
  },
  {
   "cell_type": "code",
   "execution_count": 132,
   "id": "483f6e83-c1ca-40a8-935d-6726c44afd1c",
   "metadata": {},
   "outputs": [
    {
     "data": {
      "text/plain": [
       "(229, 433)"
      ]
     },
     "execution_count": 132,
     "metadata": {},
     "output_type": "execute_result"
    }
   ],
   "source": [
    "shores_factorise(99157)"
   ]
  },
  {
   "cell_type": "markdown",
   "id": "f7836cc0-79d1-477a-84ba-a8027b551701",
   "metadata": {},
   "source": [
    "Calculate private keys using obtained $(p,q)=(229,433)$ and $e=289$."
   ]
  },
  {
   "cell_type": "code",
   "execution_count": 138,
   "id": "55291aee-3d34-4632-a131-03483ce5aeaa",
   "metadata": {},
   "outputs": [],
   "source": [
    "phi_n=(229-1)*(433-1)\n",
    "d=modular_inverse(289,phi_n)"
   ]
  },
  {
   "cell_type": "markdown",
   "id": "a0618ec9-7d43-4036-8216-a576af2ccfae",
   "metadata": {},
   "source": [
    "Reads encrypted message into a list."
   ]
  },
  {
   "cell_type": "code",
   "execution_count": 143,
   "id": "7b4562ab-6b5c-436d-a1cd-6b27febf6491",
   "metadata": {},
   "outputs": [],
   "source": [
    "def read_integers_from_file(filename):\n",
    "    with open(filename, 'r') as file:\n",
    "        return [int(line.strip()) for line in file if line.strip().isdigit()]"
   ]
  },
  {
   "cell_type": "markdown",
   "id": "1e436107-ba53-48b0-a56f-8b4a906241e0",
   "metadata": {},
   "source": [
    "Decryptes message using 'fast_decrypt'."
   ]
  },
  {
   "cell_type": "code",
   "execution_count": 149,
   "id": "3c77979e-1b35-48e1-8000-208399ebf2e6",
   "metadata": {},
   "outputs": [],
   "source": [
    "encrypted_list=read_integers_from_file('RSA-encrypted-1.txt')\n",
    "decrypted_lst=(fast_decrypt(encrypted_list,229,433,d))"
   ]
  },
  {
   "cell_type": "markdown",
   "id": "59673d61-d49d-4262-9005-beaeaa662af6",
   "metadata": {},
   "source": [
    "Converts message from ASCII to string. Note that '\\n' is the ASCII control for a newline."
   ]
  },
  {
   "cell_type": "code",
   "execution_count": 155,
   "id": "f0a98797-7dff-4346-8e09-e9faad2fcccc",
   "metadata": {},
   "outputs": [
    {
     "data": {
      "text/plain": [
       "'The fundamental problem of communication is that of reproducing at one point either exactly or ap-\\nproximately a message selected at another point. Frequently the messages have meaning; that is they refer\\nto or are correlated according to some system with certain physical or conceptual entities. These semantic\\naspects of communication are irrelevant to the engineering problem. The significant aspect is that the actual\\nmessage is one selected from a set of possible messages. The system must be designed to operate for each\\npossible selection, not just the one which will actually be chosen since this is unknown at the time of design. (From C. Shannon, A Mathematical Theory of Communication, The Bell System Technical Journal,\\nVol. 27, pp. 379–423, 623–656, July, October, 1948)'"
      ]
     },
     "execution_count": 155,
     "metadata": {},
     "output_type": "execute_result"
    }
   ],
   "source": [
    "ASCII_to_string(decrypted_lst)"
   ]
  },
  {
   "cell_type": "markdown",
   "id": "89c290cb-139b-4d19-96f2-0cc5da861d9f",
   "metadata": {
    "jp-MarkdownHeadingCollapsed": true
   },
   "source": [
    "# Benchmarking Functions\n",
    "For benchmarking we define functions that randomly generate numbers of determined bit length.\\\n",
    "We also need a function that can generate a number coprime to a given $n$."
   ]
  },
  {
   "cell_type": "code",
   "execution_count": 181,
   "id": "e9fcee00-39ef-42a9-8b23-2f8141c65664",
   "metadata": {},
   "outputs": [],
   "source": [
    "import secrets\n",
    "import random\n",
    "def generate_random_2048_bit_number():\n",
    "    return secrets.randbits(2048)\n",
    "def generate_random_1024_bit_number():\n",
    "    return secrets.randbits(1024)\n",
    "def generate_random_8_bit_number():\n",
    "    return secrets.randbits(8)\n",
    "    \n",
    "def generate_coprime(n):\n",
    "    \"\"\"Generates a random 1024-bit number that is coprime to n.\"\"\"\n",
    "    bit_size=1024\n",
    "    while True:\n",
    "        rand_num = secrets.randbits(bit_size) | 1  # Ensure it's odd\n",
    "        if scaled_gcd(rand_num, n) == 1:  # Check gcd(rand_num, n) == 1\n",
    "            return rand_num"
   ]
  },
  {
   "cell_type": "markdown",
   "id": "b8d31480-dbb2-48b8-8b4c-c377b44eb26f",
   "metadata": {
    "jp-MarkdownHeadingCollapsed": true
   },
   "source": [
    "# Encryption Benchmarking\n",
    "RSA encryption technique comparison performing $m^e\\mod n$ with a random 8 bit $m$ (ASCII is 8 bit), random 2048 bit $n$ (NIST standard public modulus) and $e=65537$ (commonly used public exponent). Note that of course, results depend on the machine and jupyters %timeit function will automatically limit the amount of runs unless specified."
   ]
  },
  {
   "cell_type": "code",
   "execution_count": 166,
   "id": "f5caa961-eabd-439e-b34b-aad8d8c63937",
   "metadata": {},
   "outputs": [
    {
     "name": "stdout",
     "output_type": "stream",
     "text": [
      "11.5 ms ± 480 μs per loop (mean ± std. dev. of 7 runs, 100 loops each)\n"
     ]
    }
   ],
   "source": [
    "%timeit (generate_random_8_bit_number()**65537)%generate_random_2048_bit_number()"
   ]
  },
  {
   "cell_type": "code",
   "execution_count": 169,
   "id": "05a6b6ca-6c5a-4cf3-b659-40be9802555f",
   "metadata": {},
   "outputs": [
    {
     "name": "stdout",
     "output_type": "stream",
     "text": [
      "102 μs ± 2.52 μs per loop (mean ± std. dev. of 7 runs, 10,000 loops each)\n"
     ]
    }
   ],
   "source": [
    "%timeit mod_exponentiate(generate_random_8_bit_number(),65537,generate_random_2048_bit_number())"
   ]
  },
  {
   "cell_type": "code",
   "execution_count": 183,
   "id": "02eff8d7-8aab-4c5a-8d5e-de19ceeca2e0",
   "metadata": {},
   "outputs": [
    {
     "name": "stdout",
     "output_type": "stream",
     "text": [
      "482 μs ± 30.6 μs per loop (mean ± std. dev. of 7 runs, 1,000 loops each)\n"
     ]
    }
   ],
   "source": [
    "def benchmark2():\n",
    "    a=generate_random_1024_bit_number()\n",
    "    fast_decrypt([generate_random_8_bit_number()],a,generate_coprime(a),65537)\n",
    "\n",
    "%timeit benchmark2()"
   ]
  },
  {
   "cell_type": "markdown",
   "id": "a0a10463-3cc8-42be-b05d-7539e0e17738",
   "metadata": {
    "jp-MarkdownHeadingCollapsed": true
   },
   "source": [
    "# Decryption Benchmarking\n",
    "RSA decryption technique comparison performing $c^d\\mod n$ with a random 2048 bit $c$ (standard encrypted word size using 2048 bit modulus), random 2048 bit $n$ (NIST standard public modulus) and a random 2048 bit $d$ (standard private key size). Note that of course, results depend on the machine and jupyters %timeit function will automatically limit the amount of runs unless specified."
   ]
  },
  {
   "cell_type": "code",
   "execution_count": 191,
   "id": "598b4140-4ae9-4422-88ca-7736726a9941",
   "metadata": {},
   "outputs": [
    {
     "name": "stdout",
     "output_type": "stream",
     "text": [
      "39.9 ms ± 947 μs per loop (mean ± std. dev. of 7 runs, 10 loops each)\n"
     ]
    }
   ],
   "source": [
    "%timeit naive_decrypt([generate_random_2048_bit_number()],generate_random_2048_bit_number(),generate_random_2048_bit_number())"
   ]
  },
  {
   "cell_type": "code",
   "execution_count": 189,
   "id": "33de676c-44ef-4595-817a-d92668e05f88",
   "metadata": {},
   "outputs": [
    {
     "name": "stdout",
     "output_type": "stream",
     "text": [
      "13.4 ms ± 562 μs per loop (mean ± std. dev. of 7 runs, 10 loops each)\n"
     ]
    }
   ],
   "source": [
    "def benchmark():\n",
    "    a=generate_random_1024_bit_number()\n",
    "    fast_decrypt([generate_random_2048_bit_number()],a,generate_coprime(a),generate_random_2048_bit_number())\n",
    "\n",
    "%timeit benchmark()"
   ]
  }
 ],
 "metadata": {
  "kernelspec": {
   "display_name": "Python 3 (ipykernel)",
   "language": "python",
   "name": "python3"
  },
  "language_info": {
   "codemirror_mode": {
    "name": "ipython",
    "version": 3
   },
   "file_extension": ".py",
   "mimetype": "text/x-python",
   "name": "python",
   "nbconvert_exporter": "python",
   "pygments_lexer": "ipython3",
   "version": "3.12.4"
  }
 },
 "nbformat": 4,
 "nbformat_minor": 5
}
